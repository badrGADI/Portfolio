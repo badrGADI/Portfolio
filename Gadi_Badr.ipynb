{
  "nbformat": 4,
  "nbformat_minor": 0,
  "metadata": {
    "colab": {
      "name": "Gadi_Badr.ipynb",
      "provenance": [],
      "collapsed_sections": [],
      "include_colab_link": true
    },
    "kernelspec": {
      "name": "python3",
      "display_name": "Python 3"
    },
    "language_info": {
      "name": "python"
    }
  },
  "cells": [
    {
      "cell_type": "markdown",
      "metadata": {
        "id": "view-in-github",
        "colab_type": "text"
      },
      "source": [
        "<a href=\"https://colab.research.google.com/github/badrGADI/Portfolio/blob/main/Gadi_Badr.ipynb\" target=\"_parent\"><img src=\"https://colab.research.google.com/assets/colab-badge.svg\" alt=\"Open In Colab\"/></a>"
      ]
    },
    {
      "cell_type": "code",
      "metadata": {
        "id": "GtA4RUxBEvYg"
      },
      "source": [
        "import pandas as pd\n",
        "import matplotlib.pyplot as plt\n",
        "import numpy as np\n",
        "import seaborn as sns\n",
        "from sklearn.model_selection import train_test_split\n",
        "from sklearn.linear_model import LinearRegression \n",
        "from sklearn.metrics import r2_score\n",
        "from sklearn.metrics import mean_squared_error\n",
        "from sklearn.tree import DecisionTreeRegressor\n",
        "from sklearn.ensemble import RandomForestRegressor\n",
        "from sklearn.svm import SVR"
      ],
      "execution_count": null,
      "outputs": []
    },
    {
      "cell_type": "code",
      "metadata": {
        "colab": {
          "base_uri": "https://localhost:8080/",
          "height": 439
        },
        "id": "xkW-X-FfE1C0",
        "outputId": "9b6ce2cf-ab6c-4626-bab8-2be93e6c9f54"
      },
      "source": [
        "data=pd.read_csv('AirQualityUCI.csv',sep=';')\n",
        "data"
      ],
      "execution_count": null,
      "outputs": [
        {
          "output_type": "execute_result",
          "data": {
            "text/html": [
              "<div>\n",
              "<style scoped>\n",
              "    .dataframe tbody tr th:only-of-type {\n",
              "        vertical-align: middle;\n",
              "    }\n",
              "\n",
              "    .dataframe tbody tr th {\n",
              "        vertical-align: top;\n",
              "    }\n",
              "\n",
              "    .dataframe thead th {\n",
              "        text-align: right;\n",
              "    }\n",
              "</style>\n",
              "<table border=\"1\" class=\"dataframe\">\n",
              "  <thead>\n",
              "    <tr style=\"text-align: right;\">\n",
              "      <th></th>\n",
              "      <th>Date</th>\n",
              "      <th>Time</th>\n",
              "      <th>CO(GT)</th>\n",
              "      <th>PT08.S1(CO)</th>\n",
              "      <th>NMHC(GT)</th>\n",
              "      <th>C6H6(GT)</th>\n",
              "      <th>PT08.S2(NMHC)</th>\n",
              "      <th>NOx(GT)</th>\n",
              "      <th>PT08.S3(NOx)</th>\n",
              "      <th>NO2(GT)</th>\n",
              "      <th>PT08.S4(NO2)</th>\n",
              "      <th>PT08.S5(O3)</th>\n",
              "      <th>T</th>\n",
              "      <th>RH</th>\n",
              "      <th>AH</th>\n",
              "    </tr>\n",
              "  </thead>\n",
              "  <tbody>\n",
              "    <tr>\n",
              "      <th>0</th>\n",
              "      <td>10/03/2004</td>\n",
              "      <td>18.00.00</td>\n",
              "      <td>2,6</td>\n",
              "      <td>1360</td>\n",
              "      <td>150</td>\n",
              "      <td>11,9</td>\n",
              "      <td>1046</td>\n",
              "      <td>166</td>\n",
              "      <td>1056</td>\n",
              "      <td>113</td>\n",
              "      <td>1692</td>\n",
              "      <td>1268</td>\n",
              "      <td>13,6</td>\n",
              "      <td>48,9</td>\n",
              "      <td>0,7578</td>\n",
              "    </tr>\n",
              "    <tr>\n",
              "      <th>1</th>\n",
              "      <td>10/03/2004</td>\n",
              "      <td>19.00.00</td>\n",
              "      <td>2</td>\n",
              "      <td>1292</td>\n",
              "      <td>112</td>\n",
              "      <td>9,4</td>\n",
              "      <td>955</td>\n",
              "      <td>103</td>\n",
              "      <td>1174</td>\n",
              "      <td>92</td>\n",
              "      <td>1559</td>\n",
              "      <td>972</td>\n",
              "      <td>13,3</td>\n",
              "      <td>47,7</td>\n",
              "      <td>0,7255</td>\n",
              "    </tr>\n",
              "    <tr>\n",
              "      <th>2</th>\n",
              "      <td>10/03/2004</td>\n",
              "      <td>20.00.00</td>\n",
              "      <td>2,2</td>\n",
              "      <td>1402</td>\n",
              "      <td>88</td>\n",
              "      <td>9</td>\n",
              "      <td>939</td>\n",
              "      <td>131</td>\n",
              "      <td>1140</td>\n",
              "      <td>114</td>\n",
              "      <td>1555</td>\n",
              "      <td>1074</td>\n",
              "      <td>11,9</td>\n",
              "      <td>54</td>\n",
              "      <td>0,7502</td>\n",
              "    </tr>\n",
              "    <tr>\n",
              "      <th>3</th>\n",
              "      <td>10/03/2004</td>\n",
              "      <td>21.00.00</td>\n",
              "      <td>2,2</td>\n",
              "      <td>1376</td>\n",
              "      <td>80</td>\n",
              "      <td>9,2</td>\n",
              "      <td>948</td>\n",
              "      <td>172</td>\n",
              "      <td>1092</td>\n",
              "      <td>122</td>\n",
              "      <td>1584</td>\n",
              "      <td>1203</td>\n",
              "      <td>11</td>\n",
              "      <td>60</td>\n",
              "      <td>0,7867</td>\n",
              "    </tr>\n",
              "    <tr>\n",
              "      <th>4</th>\n",
              "      <td>10/03/2004</td>\n",
              "      <td>22.00.00</td>\n",
              "      <td>1,6</td>\n",
              "      <td>1272</td>\n",
              "      <td>51</td>\n",
              "      <td>6,5</td>\n",
              "      <td>836</td>\n",
              "      <td>131</td>\n",
              "      <td>1205</td>\n",
              "      <td>116</td>\n",
              "      <td>1490</td>\n",
              "      <td>1110</td>\n",
              "      <td>11,2</td>\n",
              "      <td>59,6</td>\n",
              "      <td>0,7888</td>\n",
              "    </tr>\n",
              "    <tr>\n",
              "      <th>...</th>\n",
              "      <td>...</td>\n",
              "      <td>...</td>\n",
              "      <td>...</td>\n",
              "      <td>...</td>\n",
              "      <td>...</td>\n",
              "      <td>...</td>\n",
              "      <td>...</td>\n",
              "      <td>...</td>\n",
              "      <td>...</td>\n",
              "      <td>...</td>\n",
              "      <td>...</td>\n",
              "      <td>...</td>\n",
              "      <td>...</td>\n",
              "      <td>...</td>\n",
              "      <td>...</td>\n",
              "    </tr>\n",
              "    <tr>\n",
              "      <th>9352</th>\n",
              "      <td>04/04/2005</td>\n",
              "      <td>10.00.00</td>\n",
              "      <td>3,1</td>\n",
              "      <td>1314</td>\n",
              "      <td>-200</td>\n",
              "      <td>13,5</td>\n",
              "      <td>1101</td>\n",
              "      <td>472</td>\n",
              "      <td>539</td>\n",
              "      <td>190</td>\n",
              "      <td>1374</td>\n",
              "      <td>1729</td>\n",
              "      <td>21,9</td>\n",
              "      <td>29,3</td>\n",
              "      <td>0,7568</td>\n",
              "    </tr>\n",
              "    <tr>\n",
              "      <th>9353</th>\n",
              "      <td>04/04/2005</td>\n",
              "      <td>11.00.00</td>\n",
              "      <td>2,4</td>\n",
              "      <td>1163</td>\n",
              "      <td>-200</td>\n",
              "      <td>11,4</td>\n",
              "      <td>1027</td>\n",
              "      <td>353</td>\n",
              "      <td>604</td>\n",
              "      <td>179</td>\n",
              "      <td>1264</td>\n",
              "      <td>1269</td>\n",
              "      <td>24,3</td>\n",
              "      <td>23,7</td>\n",
              "      <td>0,7119</td>\n",
              "    </tr>\n",
              "    <tr>\n",
              "      <th>9354</th>\n",
              "      <td>04/04/2005</td>\n",
              "      <td>12.00.00</td>\n",
              "      <td>2,4</td>\n",
              "      <td>1142</td>\n",
              "      <td>-200</td>\n",
              "      <td>12,4</td>\n",
              "      <td>1063</td>\n",
              "      <td>293</td>\n",
              "      <td>603</td>\n",
              "      <td>175</td>\n",
              "      <td>1241</td>\n",
              "      <td>1092</td>\n",
              "      <td>26,9</td>\n",
              "      <td>18,3</td>\n",
              "      <td>0,6406</td>\n",
              "    </tr>\n",
              "    <tr>\n",
              "      <th>9355</th>\n",
              "      <td>04/04/2005</td>\n",
              "      <td>13.00.00</td>\n",
              "      <td>2,1</td>\n",
              "      <td>1003</td>\n",
              "      <td>-200</td>\n",
              "      <td>9,5</td>\n",
              "      <td>961</td>\n",
              "      <td>235</td>\n",
              "      <td>702</td>\n",
              "      <td>156</td>\n",
              "      <td>1041</td>\n",
              "      <td>770</td>\n",
              "      <td>28,3</td>\n",
              "      <td>13,5</td>\n",
              "      <td>0,5139</td>\n",
              "    </tr>\n",
              "    <tr>\n",
              "      <th>9356</th>\n",
              "      <td>04/04/2005</td>\n",
              "      <td>14.00.00</td>\n",
              "      <td>2,2</td>\n",
              "      <td>1071</td>\n",
              "      <td>-200</td>\n",
              "      <td>11,9</td>\n",
              "      <td>1047</td>\n",
              "      <td>265</td>\n",
              "      <td>654</td>\n",
              "      <td>168</td>\n",
              "      <td>1129</td>\n",
              "      <td>816</td>\n",
              "      <td>28,5</td>\n",
              "      <td>13,1</td>\n",
              "      <td>0,5028</td>\n",
              "    </tr>\n",
              "  </tbody>\n",
              "</table>\n",
              "<p>9357 rows × 15 columns</p>\n",
              "</div>"
            ],
            "text/plain": [
              "            Date      Time CO(GT)  PT08.S1(CO)  ...  PT08.S5(O3)     T    RH      AH\n",
              "0     10/03/2004  18.00.00    2,6         1360  ...         1268  13,6  48,9  0,7578\n",
              "1     10/03/2004  19.00.00      2         1292  ...          972  13,3  47,7  0,7255\n",
              "2     10/03/2004  20.00.00    2,2         1402  ...         1074  11,9    54  0,7502\n",
              "3     10/03/2004  21.00.00    2,2         1376  ...         1203    11    60  0,7867\n",
              "4     10/03/2004  22.00.00    1,6         1272  ...         1110  11,2  59,6  0,7888\n",
              "...          ...       ...    ...          ...  ...          ...   ...   ...     ...\n",
              "9352  04/04/2005  10.00.00    3,1         1314  ...         1729  21,9  29,3  0,7568\n",
              "9353  04/04/2005  11.00.00    2,4         1163  ...         1269  24,3  23,7  0,7119\n",
              "9354  04/04/2005  12.00.00    2,4         1142  ...         1092  26,9  18,3  0,6406\n",
              "9355  04/04/2005  13.00.00    2,1         1003  ...          770  28,3  13,5  0,5139\n",
              "9356  04/04/2005  14.00.00    2,2         1071  ...          816  28,5  13,1  0,5028\n",
              "\n",
              "[9357 rows x 15 columns]"
            ]
          },
          "metadata": {
            "tags": []
          },
          "execution_count": 2
        }
      ]
    },
    {
      "cell_type": "code",
      "metadata": {
        "id": "Yuo66qtyE93V"
      },
      "source": [
        "data[\"DateTime\"] = data[\"Date\"] + \" \" + data[\"Time\"]\n",
        "data.drop(['Date', 'Time'], axis=1,inplace=True)"
      ],
      "execution_count": null,
      "outputs": []
    },
    {
      "cell_type": "markdown",
      "metadata": {
        "id": "QvlBc0K5fafO"
      },
      "source": [
        "nous avons regrouper les 2 colonnes en une colonne DateTime"
      ]
    },
    {
      "cell_type": "code",
      "metadata": {
        "id": "OyJeDYR6E_DN"
      },
      "source": [
        "data.set_index('DateTime',inplace=True)"
      ],
      "execution_count": null,
      "outputs": []
    },
    {
      "cell_type": "markdown",
      "metadata": {
        "id": "0KJBRq7xdFrx"
      },
      "source": [
        "on a rendu DateTime comme indexe"
      ]
    },
    {
      "cell_type": "code",
      "metadata": {
        "id": "hJxtljyhFCs8"
      },
      "source": [
        "data['C6H6(GT)']=data['C6H6(GT)'].str.replace(',','.')\n",
        "data['CO(GT)']=data['CO(GT)'].str.replace(',','.')\n",
        "data['T']=data['T'].str.replace(',','.')\n",
        "data['RH']=data['RH'].str.replace(',','.')\n",
        "data['AH']=data['AH'].str.replace(',','.')\n",
        "data['C6H6(GT)']=data['C6H6(GT)'].astype(float)\n",
        "data[['CO(GT)','T','RH','AH']] = data[['CO(GT)','T','RH','AH']].astype(float)"
      ],
      "execution_count": null,
      "outputs": []
    },
    {
      "cell_type": "markdown",
      "metadata": {
        "id": "uTpu9q6SdLhK"
      },
      "source": [
        "pour transformer les valeurs en float, on doit d'abord remplacer les virgules par des points'.',puis on les a transformer en float."
      ]
    },
    {
      "cell_type": "code",
      "metadata": {
        "id": "5qbOB5ImFGSQ"
      },
      "source": [
        "data.dropna(axis=0, how= 'all', inplace=True)\n",
        "data.dropna(axis=1, inplace=True)"
      ],
      "execution_count": null,
      "outputs": []
    },
    {
      "cell_type": "code",
      "metadata": {
        "colab": {
          "base_uri": "https://localhost:8080/",
          "height": 340
        },
        "id": "aMK4oblSFio8",
        "outputId": "b478f634-ba0c-45a9-d664-5be50c60d8a2"
      },
      "source": [
        "data.replace(to_replace= -200, value= np.NaN, inplace= True)\n",
        "data.tail()"
      ],
      "execution_count": null,
      "outputs": [
        {
          "output_type": "execute_result",
          "data": {
            "text/html": [
              "<div>\n",
              "<style scoped>\n",
              "    .dataframe tbody tr th:only-of-type {\n",
              "        vertical-align: middle;\n",
              "    }\n",
              "\n",
              "    .dataframe tbody tr th {\n",
              "        vertical-align: top;\n",
              "    }\n",
              "\n",
              "    .dataframe thead th {\n",
              "        text-align: right;\n",
              "    }\n",
              "</style>\n",
              "<table border=\"1\" class=\"dataframe\">\n",
              "  <thead>\n",
              "    <tr style=\"text-align: right;\">\n",
              "      <th></th>\n",
              "      <th>CO(GT)</th>\n",
              "      <th>PT08.S1(CO)</th>\n",
              "      <th>NMHC(GT)</th>\n",
              "      <th>C6H6(GT)</th>\n",
              "      <th>PT08.S2(NMHC)</th>\n",
              "      <th>NOx(GT)</th>\n",
              "      <th>PT08.S3(NOx)</th>\n",
              "      <th>NO2(GT)</th>\n",
              "      <th>PT08.S4(NO2)</th>\n",
              "      <th>PT08.S5(O3)</th>\n",
              "      <th>T</th>\n",
              "      <th>RH</th>\n",
              "      <th>AH</th>\n",
              "    </tr>\n",
              "    <tr>\n",
              "      <th>DateTime</th>\n",
              "      <th></th>\n",
              "      <th></th>\n",
              "      <th></th>\n",
              "      <th></th>\n",
              "      <th></th>\n",
              "      <th></th>\n",
              "      <th></th>\n",
              "      <th></th>\n",
              "      <th></th>\n",
              "      <th></th>\n",
              "      <th></th>\n",
              "      <th></th>\n",
              "      <th></th>\n",
              "    </tr>\n",
              "  </thead>\n",
              "  <tbody>\n",
              "    <tr>\n",
              "      <th>04/04/2005 10.00.00</th>\n",
              "      <td>3.1</td>\n",
              "      <td>1314.0</td>\n",
              "      <td>NaN</td>\n",
              "      <td>13.5</td>\n",
              "      <td>1101.0</td>\n",
              "      <td>472.0</td>\n",
              "      <td>539.0</td>\n",
              "      <td>190.0</td>\n",
              "      <td>1374.0</td>\n",
              "      <td>1729.0</td>\n",
              "      <td>21.9</td>\n",
              "      <td>29.3</td>\n",
              "      <td>0.7568</td>\n",
              "    </tr>\n",
              "    <tr>\n",
              "      <th>04/04/2005 11.00.00</th>\n",
              "      <td>2.4</td>\n",
              "      <td>1163.0</td>\n",
              "      <td>NaN</td>\n",
              "      <td>11.4</td>\n",
              "      <td>1027.0</td>\n",
              "      <td>353.0</td>\n",
              "      <td>604.0</td>\n",
              "      <td>179.0</td>\n",
              "      <td>1264.0</td>\n",
              "      <td>1269.0</td>\n",
              "      <td>24.3</td>\n",
              "      <td>23.7</td>\n",
              "      <td>0.7119</td>\n",
              "    </tr>\n",
              "    <tr>\n",
              "      <th>04/04/2005 12.00.00</th>\n",
              "      <td>2.4</td>\n",
              "      <td>1142.0</td>\n",
              "      <td>NaN</td>\n",
              "      <td>12.4</td>\n",
              "      <td>1063.0</td>\n",
              "      <td>293.0</td>\n",
              "      <td>603.0</td>\n",
              "      <td>175.0</td>\n",
              "      <td>1241.0</td>\n",
              "      <td>1092.0</td>\n",
              "      <td>26.9</td>\n",
              "      <td>18.3</td>\n",
              "      <td>0.6406</td>\n",
              "    </tr>\n",
              "    <tr>\n",
              "      <th>04/04/2005 13.00.00</th>\n",
              "      <td>2.1</td>\n",
              "      <td>1003.0</td>\n",
              "      <td>NaN</td>\n",
              "      <td>9.5</td>\n",
              "      <td>961.0</td>\n",
              "      <td>235.0</td>\n",
              "      <td>702.0</td>\n",
              "      <td>156.0</td>\n",
              "      <td>1041.0</td>\n",
              "      <td>770.0</td>\n",
              "      <td>28.3</td>\n",
              "      <td>13.5</td>\n",
              "      <td>0.5139</td>\n",
              "    </tr>\n",
              "    <tr>\n",
              "      <th>04/04/2005 14.00.00</th>\n",
              "      <td>2.2</td>\n",
              "      <td>1071.0</td>\n",
              "      <td>NaN</td>\n",
              "      <td>11.9</td>\n",
              "      <td>1047.0</td>\n",
              "      <td>265.0</td>\n",
              "      <td>654.0</td>\n",
              "      <td>168.0</td>\n",
              "      <td>1129.0</td>\n",
              "      <td>816.0</td>\n",
              "      <td>28.5</td>\n",
              "      <td>13.1</td>\n",
              "      <td>0.5028</td>\n",
              "    </tr>\n",
              "  </tbody>\n",
              "</table>\n",
              "</div>"
            ],
            "text/plain": [
              "                     CO(GT)  PT08.S1(CO)  NMHC(GT)  ...     T    RH      AH\n",
              "DateTime                                            ...                    \n",
              "04/04/2005 10.00.00     3.1       1314.0       NaN  ...  21.9  29.3  0.7568\n",
              "04/04/2005 11.00.00     2.4       1163.0       NaN  ...  24.3  23.7  0.7119\n",
              "04/04/2005 12.00.00     2.4       1142.0       NaN  ...  26.9  18.3  0.6406\n",
              "04/04/2005 13.00.00     2.1       1003.0       NaN  ...  28.3  13.5  0.5139\n",
              "04/04/2005 14.00.00     2.2       1071.0       NaN  ...  28.5  13.1  0.5028\n",
              "\n",
              "[5 rows x 13 columns]"
            ]
          },
          "metadata": {
            "tags": []
          },
          "execution_count": 7
        }
      ]
    },
    {
      "cell_type": "markdown",
      "metadata": {
        "id": "IHZSyXjoebBS"
      },
      "source": [
        "on va remplacer dans toutes les cases qui contiennet -200 par NaN"
      ]
    },
    {
      "cell_type": "code",
      "metadata": {
        "id": "41rys1mVFmBb"
      },
      "source": [
        "data.fillna(data.mean(), inplace= True)"
      ],
      "execution_count": null,
      "outputs": []
    },
    {
      "cell_type": "markdown",
      "metadata": {
        "id": "5PmPwT1QemkF"
      },
      "source": [
        "on va remplacer les NaN par la moyenne de cette colonne qui contient ce NaN"
      ]
    },
    {
      "cell_type": "code",
      "metadata": {
        "id": "v9JyJ-glLdGN"
      },
      "source": [
        "x=data.drop('C6H6(GT)',axis=1)\n",
        "y=data['C6H6(GT)']"
      ],
      "execution_count": null,
      "outputs": []
    },
    {
      "cell_type": "markdown",
      "metadata": {
        "id": "ONRo8OSLggBG"
      },
      "source": [
        "la cible contient que la colonne C6H6\n",
        "alors que les features contiennet toutes les colonnes sauf la colonne C6H6 qui represente la cible"
      ]
    },
    {
      "cell_type": "code",
      "metadata": {
        "id": "8g17tlAzLsin",
        "colab": {
          "base_uri": "https://localhost:8080/",
          "height": 1000
        },
        "outputId": "fb180715-fd2e-4a98-a598-436c6b8d772f"
      },
      "source": [
        "plt.figure(figsize=(10,16))\n",
        "sns.heatmap(data.corr(),annot=True,cmap=\"coolwarm\")"
      ],
      "execution_count": null,
      "outputs": [
        {
          "output_type": "execute_result",
          "data": {
            "text/plain": [
              "<matplotlib.axes._subplots.AxesSubplot at 0x7f65cbc1d290>"
            ]
          },
          "metadata": {
            "tags": []
          },
          "execution_count": 10
        },
        {
          "output_type": "display_data",
          "data": {
            "image/png": "[encoded data removed]",
            "text/plain": [
              "<Figure size 720x1152 with 2 Axes>"
            ]
          },
          "metadata": {
            "tags": [],
            "needs_background": "light"
          }
        }
      ]
    },
    {
      "cell_type": "markdown",
      "metadata": {
        "id": "hL5QCmLFhxoS"
      },
      "source": [
        "matrice de correlation "
      ]
    },
    {
      "cell_type": "code",
      "metadata": {
        "colab": {
          "base_uri": "https://localhost:8080/",
          "height": 320
        },
        "id": "nTbhLLaGIOuT",
        "outputId": "3c53c326-699f-43fd-8028-01ea72d7acf5"
      },
      "source": [
        "data.drop('T',axis=1,inplace=True)\n",
        "data.drop('RH',axis=1,inplace=True)\n",
        "data.drop('AH',axis=1,inplace=True)\n",
        "data.drop('NMHC(GT)',axis=1,inplace=True)\n",
        "data.head()"
      ],
      "execution_count": null,
      "outputs": [
        {
          "output_type": "execute_result",
          "data": {
            "text/html": [
              "<div>\n",
              "<style scoped>\n",
              "    .dataframe tbody tr th:only-of-type {\n",
              "        vertical-align: middle;\n",
              "    }\n",
              "\n",
              "    .dataframe tbody tr th {\n",
              "        vertical-align: top;\n",
              "    }\n",
              "\n",
              "    .dataframe thead th {\n",
              "        text-align: right;\n",
              "    }\n",
              "</style>\n",
              "<table border=\"1\" class=\"dataframe\">\n",
              "  <thead>\n",
              "    <tr style=\"text-align: right;\">\n",
              "      <th></th>\n",
              "      <th>CO(GT)</th>\n",
              "      <th>PT08.S1(CO)</th>\n",
              "      <th>C6H6(GT)</th>\n",
              "      <th>PT08.S2(NMHC)</th>\n",
              "      <th>NOx(GT)</th>\n",
              "      <th>PT08.S3(NOx)</th>\n",
              "      <th>NO2(GT)</th>\n",
              "      <th>PT08.S4(NO2)</th>\n",
              "      <th>PT08.S5(O3)</th>\n",
              "    </tr>\n",
              "    <tr>\n",
              "      <th>DateTime</th>\n",
              "      <th></th>\n",
              "      <th></th>\n",
              "      <th></th>\n",
              "      <th></th>\n",
              "      <th></th>\n",
              "      <th></th>\n",
              "      <th></th>\n",
              "      <th></th>\n",
              "      <th></th>\n",
              "    </tr>\n",
              "  </thead>\n",
              "  <tbody>\n",
              "    <tr>\n",
              "      <th>10/03/2004 18.00.00</th>\n",
              "      <td>2.6</td>\n",
              "      <td>1360.0</td>\n",
              "      <td>11.9</td>\n",
              "      <td>1046.0</td>\n",
              "      <td>166.0</td>\n",
              "      <td>1056.0</td>\n",
              "      <td>113.0</td>\n",
              "      <td>1692.0</td>\n",
              "      <td>1268.0</td>\n",
              "    </tr>\n",
              "    <tr>\n",
              "      <th>10/03/2004 19.00.00</th>\n",
              "      <td>2.0</td>\n",
              "      <td>1292.0</td>\n",
              "      <td>9.4</td>\n",
              "      <td>955.0</td>\n",
              "      <td>103.0</td>\n",
              "      <td>1174.0</td>\n",
              "      <td>92.0</td>\n",
              "      <td>1559.0</td>\n",
              "      <td>972.0</td>\n",
              "    </tr>\n",
              "    <tr>\n",
              "      <th>10/03/2004 20.00.00</th>\n",
              "      <td>2.2</td>\n",
              "      <td>1402.0</td>\n",
              "      <td>9.0</td>\n",
              "      <td>939.0</td>\n",
              "      <td>131.0</td>\n",
              "      <td>1140.0</td>\n",
              "      <td>114.0</td>\n",
              "      <td>1555.0</td>\n",
              "      <td>1074.0</td>\n",
              "    </tr>\n",
              "    <tr>\n",
              "      <th>10/03/2004 21.00.00</th>\n",
              "      <td>2.2</td>\n",
              "      <td>1376.0</td>\n",
              "      <td>9.2</td>\n",
              "      <td>948.0</td>\n",
              "      <td>172.0</td>\n",
              "      <td>1092.0</td>\n",
              "      <td>122.0</td>\n",
              "      <td>1584.0</td>\n",
              "      <td>1203.0</td>\n",
              "    </tr>\n",
              "    <tr>\n",
              "      <th>10/03/2004 22.00.00</th>\n",
              "      <td>1.6</td>\n",
              "      <td>1272.0</td>\n",
              "      <td>6.5</td>\n",
              "      <td>836.0</td>\n",
              "      <td>131.0</td>\n",
              "      <td>1205.0</td>\n",
              "      <td>116.0</td>\n",
              "      <td>1490.0</td>\n",
              "      <td>1110.0</td>\n",
              "    </tr>\n",
              "  </tbody>\n",
              "</table>\n",
              "</div>"
            ],
            "text/plain": [
              "                     CO(GT)  PT08.S1(CO)  ...  PT08.S4(NO2)  PT08.S5(O3)\n",
              "DateTime                                  ...                           \n",
              "10/03/2004 18.00.00     2.6       1360.0  ...        1692.0       1268.0\n",
              "10/03/2004 19.00.00     2.0       1292.0  ...        1559.0        972.0\n",
              "10/03/2004 20.00.00     2.2       1402.0  ...        1555.0       1074.0\n",
              "10/03/2004 21.00.00     2.2       1376.0  ...        1584.0       1203.0\n",
              "10/03/2004 22.00.00     1.6       1272.0  ...        1490.0       1110.0\n",
              "\n",
              "[5 rows x 9 columns]"
            ]
          },
          "metadata": {
            "tags": []
          },
          "execution_count": 11
        }
      ]
    },
    {
      "cell_type": "markdown",
      "metadata": {
        "id": "FE7KgE_qh6Vd"
      },
      "source": [
        "on a supprimé toutes les colonnes qui ne sont pas correlées avec notre cible ,et nous avons laissé que celles qui sont correlées."
      ]
    },
    {
      "cell_type": "markdown",
      "metadata": {
        "id": "vAom-HDbNyag"
      },
      "source": [
        "# ***Linear Regression***"
      ]
    },
    {
      "cell_type": "code",
      "metadata": {
        "id": "KLZNseTIR63r"
      },
      "source": [
        "list_var=data.columns.drop(\"C6H6(GT)\")\n",
        "y=data['C6H6(GT)']\n",
        "x=data[list_var]"
      ],
      "execution_count": null,
      "outputs": []
    },
    {
      "cell_type": "markdown",
      "metadata": {
        "id": "bUDnDR9YijqK"
      },
      "source": [
        "la cible contient que la colonne C6H6\n",
        "alors que les features contiennet toutes les colonnes sauf la colonne C6H6 qui represente la cible"
      ]
    },
    {
      "cell_type": "code",
      "metadata": {
        "id": "wx5CyEcAFLkq"
      },
      "source": [
        "x_tra,x_test,y_tra,y_test=train_test_split(x,y,test_size=0.3, random_state=0)"
      ],
      "execution_count": null,
      "outputs": []
    },
    {
      "cell_type": "code",
      "metadata": {
        "colab": {
          "base_uri": "https://localhost:8080/"
        },
        "id": "11LTMk_NJDVE",
        "outputId": "5e060e90-c9b8-48cd-82de-87a8af61e899"
      },
      "source": [
        "ml=LinearRegression()\n",
        "ml.fit(x_tra,y_tra)"
      ],
      "execution_count": null,
      "outputs": [
        {
          "output_type": "execute_result",
          "data": {
            "text/plain": [
              "LinearRegression(copy_X=True, fit_intercept=True, n_jobs=None, normalize=False)"
            ]
          },
          "metadata": {
            "tags": []
          },
          "execution_count": 14
        }
      ]
    },
    {
      "cell_type": "code",
      "metadata": {
        "colab": {
          "base_uri": "https://localhost:8080/"
        },
        "id": "RnW2aa0PJDXl",
        "outputId": "a09d082e-6e54-431a-f1ec-53f0b438b5e2"
      },
      "source": [
        "y_pred=ml.predict(x_test)\n",
        "print(y_pred)"
      ],
      "execution_count": null,
      "outputs": [
        {
          "output_type": "stream",
          "text": [
            "[ 5.8586366  -0.64145436  1.47202755 ...  2.0612878   8.84752496\n",
            "  6.84254088]\n"
          ],
          "name": "stdout"
        }
      ]
    },
    {
      "cell_type": "code",
      "metadata": {
        "colab": {
          "base_uri": "https://localhost:8080/"
        },
        "id": "m4_DpdYvJDax",
        "outputId": "61d631a7-a418-496b-9d1d-85c5be8533fe"
      },
      "source": [
        "ml.predict([[2.6,1360.0,1046.0,166.0,1056.0,113.0,1692.0,1268.0]])\n"
      ],
      "execution_count": null,
      "outputs": [
        {
          "output_type": "execute_result",
          "data": {
            "text/plain": [
              "array([14.25935436])"
            ]
          },
          "metadata": {
            "tags": []
          },
          "execution_count": 16
        }
      ]
    },
    {
      "cell_type": "code",
      "metadata": {
        "colab": {
          "base_uri": "https://localhost:8080/"
        },
        "id": "W7X7pzCSJfnd",
        "outputId": "1ddc9c82-4f85-4309-b254-81f19699977b"
      },
      "source": [
        "r2_score(y_test,y_pred)"
      ],
      "execution_count": null,
      "outputs": [
        {
          "output_type": "execute_result",
          "data": {
            "text/plain": [
              "0.9765923503231557"
            ]
          },
          "metadata": {
            "tags": []
          },
          "execution_count": 17
        }
      ]
    },
    {
      "cell_type": "code",
      "metadata": {
        "colab": {
          "base_uri": "https://localhost:8080/",
          "height": 592
        },
        "id": "uv8yScN4Jfx2",
        "outputId": "72f15acd-586c-49b5-fa30-21954ba3e77a"
      },
      "source": [
        "plt.figure(figsize=(15,10))\n",
        "plt.scatter(y_test,y_pred) \n",
        "\n",
        "plt.show()"
      ],
      "execution_count": null,
      "outputs": [
        {
          "output_type": "display_data",
          "data": {
            "image/png": "[encoded data removed]",
            "text/plain": [
              "<Figure size 1080x720 with 1 Axes>"
            ]
          },
          "metadata": {
            "tags": [],
            "needs_background": "light"
          }
        }
      ]
    },
    {
      "cell_type": "code",
      "metadata": {
        "colab": {
          "base_uri": "https://localhost:8080/",
          "height": 450
        },
        "id": "4t8Xl9BX59iQ",
        "outputId": "d215280c-823a-49f4-8f59-59fece03f025"
      },
      "source": [
        "pred_y_df=pd.DataFrame({'actual value':y_test,'predicted value':y_pred,'difference':y_test-y_pred})\n",
        "pred_y_df"
      ],
      "execution_count": null,
      "outputs": [
        {
          "output_type": "execute_result",
          "data": {
            "text/html": [
              "<div>\n",
              "<style scoped>\n",
              "    .dataframe tbody tr th:only-of-type {\n",
              "        vertical-align: middle;\n",
              "    }\n",
              "\n",
              "    .dataframe tbody tr th {\n",
              "        vertical-align: top;\n",
              "    }\n",
              "\n",
              "    .dataframe thead th {\n",
              "        text-align: right;\n",
              "    }\n",
              "</style>\n",
              "<table border=\"1\" class=\"dataframe\">\n",
              "  <thead>\n",
              "    <tr style=\"text-align: right;\">\n",
              "      <th></th>\n",
              "      <th>actual value</th>\n",
              "      <th>predicted value</th>\n",
              "      <th>difference</th>\n",
              "    </tr>\n",
              "    <tr>\n",
              "      <th>DateTime</th>\n",
              "      <th></th>\n",
              "      <th></th>\n",
              "      <th></th>\n",
              "    </tr>\n",
              "  </thead>\n",
              "  <tbody>\n",
              "    <tr>\n",
              "      <th>26/04/2004 11.00.00</th>\n",
              "      <td>5.2</td>\n",
              "      <td>5.858637</td>\n",
              "      <td>-0.658637</td>\n",
              "    </tr>\n",
              "    <tr>\n",
              "      <th>08/02/2005 06.00.00</th>\n",
              "      <td>1.6</td>\n",
              "      <td>-0.641454</td>\n",
              "      <td>2.241454</td>\n",
              "    </tr>\n",
              "    <tr>\n",
              "      <th>16/08/2004 05.00.00</th>\n",
              "      <td>2.4</td>\n",
              "      <td>1.472028</td>\n",
              "      <td>0.927972</td>\n",
              "    </tr>\n",
              "    <tr>\n",
              "      <th>18/09/2004 05.00.00</th>\n",
              "      <td>2.3</td>\n",
              "      <td>1.998312</td>\n",
              "      <td>0.301688</td>\n",
              "    </tr>\n",
              "    <tr>\n",
              "      <th>04/04/2004 05.00.00</th>\n",
              "      <td>3.0</td>\n",
              "      <td>2.983114</td>\n",
              "      <td>0.016886</td>\n",
              "    </tr>\n",
              "    <tr>\n",
              "      <th>...</th>\n",
              "      <td>...</td>\n",
              "      <td>...</td>\n",
              "      <td>...</td>\n",
              "    </tr>\n",
              "    <tr>\n",
              "      <th>31/08/2004 02.00.00</th>\n",
              "      <td>2.9</td>\n",
              "      <td>1.876185</td>\n",
              "      <td>1.023815</td>\n",
              "    </tr>\n",
              "    <tr>\n",
              "      <th>26/03/2005 11.00.00</th>\n",
              "      <td>9.3</td>\n",
              "      <td>9.885247</td>\n",
              "      <td>-0.585247</td>\n",
              "    </tr>\n",
              "    <tr>\n",
              "      <th>05/04/2004 01.00.00</th>\n",
              "      <td>2.4</td>\n",
              "      <td>2.061288</td>\n",
              "      <td>0.338712</td>\n",
              "    </tr>\n",
              "    <tr>\n",
              "      <th>27/11/2004 06.00.00</th>\n",
              "      <td>7.6</td>\n",
              "      <td>8.847525</td>\n",
              "      <td>-1.247525</td>\n",
              "    </tr>\n",
              "    <tr>\n",
              "      <th>04/06/2004 10.00.00</th>\n",
              "      <td>5.7</td>\n",
              "      <td>6.842541</td>\n",
              "      <td>-1.142541</td>\n",
              "    </tr>\n",
              "  </tbody>\n",
              "</table>\n",
              "<p>2808 rows × 3 columns</p>\n",
              "</div>"
            ],
            "text/plain": [
              "                     actual value  predicted value  difference\n",
              "DateTime                                                      \n",
              "26/04/2004 11.00.00           5.2         5.858637   -0.658637\n",
              "08/02/2005 06.00.00           1.6        -0.641454    2.241454\n",
              "16/08/2004 05.00.00           2.4         1.472028    0.927972\n",
              "18/09/2004 05.00.00           2.3         1.998312    0.301688\n",
              "04/04/2004 05.00.00           3.0         2.983114    0.016886\n",
              "...                           ...              ...         ...\n",
              "31/08/2004 02.00.00           2.9         1.876185    1.023815\n",
              "26/03/2005 11.00.00           9.3         9.885247   -0.585247\n",
              "05/04/2004 01.00.00           2.4         2.061288    0.338712\n",
              "27/11/2004 06.00.00           7.6         8.847525   -1.247525\n",
              "04/06/2004 10.00.00           5.7         6.842541   -1.142541\n",
              "\n",
              "[2808 rows x 3 columns]"
            ]
          },
          "metadata": {
            "tags": []
          },
          "execution_count": 19
        }
      ]
    },
    {
      "cell_type": "code",
      "metadata": {
        "colab": {
          "base_uri": "https://localhost:8080/"
        },
        "id": "7UWuq-IBUMSa",
        "outputId": "d7341441-acd7-4a21-a18f-f4e656edde7e"
      },
      "source": [
        "rmse_reg=np.sqrt(mean_squared_error(y_test,y_pred))     \n",
        "print('Baseline RMSE of model:',rmse_reg)"
      ],
      "execution_count": null,
      "outputs": [
        {
          "output_type": "stream",
          "text": [
            "Baseline RMSE of model: 1.0907187408338643\n"
          ],
          "name": "stdout"
        }
      ]
    },
    {
      "cell_type": "markdown",
      "metadata": {
        "id": "pxu1nCpSNq5z"
      },
      "source": [
        "# ***Decision Tree Regressor***"
      ]
    },
    {
      "cell_type": "code",
      "metadata": {
        "colab": {
          "base_uri": "https://localhost:8080/"
        },
        "id": "yeYPmgFcJrg5",
        "outputId": "d5ee45d5-9fd2-431b-f175-1b37f43d2f57"
      },
      "source": [
        "dtr=DecisionTreeRegressor()\n",
        "dtr.fit(x_tra,y_tra)\n"
      ],
      "execution_count": null,
      "outputs": [
        {
          "output_type": "execute_result",
          "data": {
            "text/plain": [
              "DecisionTreeRegressor(ccp_alpha=0.0, criterion='mse', max_depth=None,\n",
              "                      max_features=None, max_leaf_nodes=None,\n",
              "                      min_impurity_decrease=0.0, min_impurity_split=None,\n",
              "                      min_samples_leaf=1, min_samples_split=2,\n",
              "                      min_weight_fraction_leaf=0.0, presort='deprecated',\n",
              "                      random_state=None, splitter='best')"
            ]
          },
          "metadata": {
            "tags": []
          },
          "execution_count": 21
        }
      ]
    },
    {
      "cell_type": "code",
      "metadata": {
        "colab": {
          "base_uri": "https://localhost:8080/"
        },
        "id": "NqAEqWaSJrw5",
        "outputId": "5a47e61d-6f69-403b-b015-e6ec7315de6f"
      },
      "source": [
        "y_pred1=dtr.predict(x_test)\n",
        "print(y_pred1)"
      ],
      "execution_count": null,
      "outputs": [
        {
          "output_type": "stream",
          "text": [
            "[5.2 1.6 2.4 ... 2.4 7.6 5.7]\n"
          ],
          "name": "stdout"
        }
      ]
    },
    {
      "cell_type": "code",
      "metadata": {
        "colab": {
          "base_uri": "https://localhost:8080/"
        },
        "id": "5EyNpjFcJr0o",
        "outputId": "4571589e-60eb-4208-d5cb-9eb594f43c47"
      },
      "source": [
        "dtr.predict([[2.6,1360.0,1046.0,166.0,1056.0,113.0,1692.0,1268.0]])"
      ],
      "execution_count": null,
      "outputs": [
        {
          "output_type": "execute_result",
          "data": {
            "text/plain": [
              "array([11.9])"
            ]
          },
          "metadata": {
            "tags": []
          },
          "execution_count": 23
        }
      ]
    },
    {
      "cell_type": "code",
      "metadata": {
        "colab": {
          "base_uri": "https://localhost:8080/"
        },
        "id": "pVs2Jd7WJr3r",
        "outputId": "708a1275-13fb-40a6-c376-7d6324cde3b6"
      },
      "source": [
        "r2_score(y_test,y_pred1)"
      ],
      "execution_count": null,
      "outputs": [
        {
          "output_type": "execute_result",
          "data": {
            "text/plain": [
              "0.9999605503140795"
            ]
          },
          "metadata": {
            "tags": []
          },
          "execution_count": 24
        }
      ]
    },
    {
      "cell_type": "code",
      "metadata": {
        "colab": {
          "base_uri": "https://localhost:8080/",
          "height": 595
        },
        "id": "6TDqsdGaJr7C",
        "outputId": "bcaa58b3-7ebf-4ea7-edcb-424d67b25ca1"
      },
      "source": [
        "plt.figure(figsize=(15,10))\n",
        "plt.plot(y_test,y_pred1,'o')\n",
        "plt.show()\n",
        "plt.show()"
      ],
      "execution_count": null,
      "outputs": [
        {
          "output_type": "display_data",
          "data": {
            "image/png": "[encoded data removed]",
            "text/plain": [
              "<Figure size 1080x720 with 1 Axes>"
            ]
          },
          "metadata": {
            "tags": [],
            "needs_background": "light"
          }
        }
      ]
    },
    {
      "cell_type": "code",
      "metadata": {
        "colab": {
          "base_uri": "https://localhost:8080/",
          "height": 450
        },
        "id": "c-TVBE_67p3g",
        "outputId": "742adf07-e1d3-46e8-c054-9dfd8dbd4ba4"
      },
      "source": [
        "pred_y_df=pd.DataFrame({'actual value':y_test,'predicted value':y_pred1,'difference':y_test-y_pred1})\n",
        "pred_y_df"
      ],
      "execution_count": null,
      "outputs": [
        {
          "output_type": "execute_result",
          "data": {
            "text/html": [
              "<div>\n",
              "<style scoped>\n",
              "    .dataframe tbody tr th:only-of-type {\n",
              "        vertical-align: middle;\n",
              "    }\n",
              "\n",
              "    .dataframe tbody tr th {\n",
              "        vertical-align: top;\n",
              "    }\n",
              "\n",
              "    .dataframe thead th {\n",
              "        text-align: right;\n",
              "    }\n",
              "</style>\n",
              "<table border=\"1\" class=\"dataframe\">\n",
              "  <thead>\n",
              "    <tr style=\"text-align: right;\">\n",
              "      <th></th>\n",
              "      <th>actual value</th>\n",
              "      <th>predicted value</th>\n",
              "      <th>difference</th>\n",
              "    </tr>\n",
              "    <tr>\n",
              "      <th>DateTime</th>\n",
              "      <th></th>\n",
              "      <th></th>\n",
              "      <th></th>\n",
              "    </tr>\n",
              "  </thead>\n",
              "  <tbody>\n",
              "    <tr>\n",
              "      <th>26/04/2004 11.00.00</th>\n",
              "      <td>5.2</td>\n",
              "      <td>5.2</td>\n",
              "      <td>3.552714e-15</td>\n",
              "    </tr>\n",
              "    <tr>\n",
              "      <th>08/02/2005 06.00.00</th>\n",
              "      <td>1.6</td>\n",
              "      <td>1.6</td>\n",
              "      <td>-4.440892e-16</td>\n",
              "    </tr>\n",
              "    <tr>\n",
              "      <th>16/08/2004 05.00.00</th>\n",
              "      <td>2.4</td>\n",
              "      <td>2.4</td>\n",
              "      <td>-1.332268e-15</td>\n",
              "    </tr>\n",
              "    <tr>\n",
              "      <th>18/09/2004 05.00.00</th>\n",
              "      <td>2.3</td>\n",
              "      <td>2.3</td>\n",
              "      <td>0.000000e+00</td>\n",
              "    </tr>\n",
              "    <tr>\n",
              "      <th>04/04/2004 05.00.00</th>\n",
              "      <td>3.0</td>\n",
              "      <td>3.0</td>\n",
              "      <td>0.000000e+00</td>\n",
              "    </tr>\n",
              "    <tr>\n",
              "      <th>...</th>\n",
              "      <td>...</td>\n",
              "      <td>...</td>\n",
              "      <td>...</td>\n",
              "    </tr>\n",
              "    <tr>\n",
              "      <th>31/08/2004 02.00.00</th>\n",
              "      <td>2.9</td>\n",
              "      <td>2.9</td>\n",
              "      <td>-2.220446e-15</td>\n",
              "    </tr>\n",
              "    <tr>\n",
              "      <th>26/03/2005 11.00.00</th>\n",
              "      <td>9.3</td>\n",
              "      <td>9.3</td>\n",
              "      <td>-3.552714e-15</td>\n",
              "    </tr>\n",
              "    <tr>\n",
              "      <th>05/04/2004 01.00.00</th>\n",
              "      <td>2.4</td>\n",
              "      <td>2.4</td>\n",
              "      <td>-1.332268e-15</td>\n",
              "    </tr>\n",
              "    <tr>\n",
              "      <th>27/11/2004 06.00.00</th>\n",
              "      <td>7.6</td>\n",
              "      <td>7.6</td>\n",
              "      <td>8.881784e-16</td>\n",
              "    </tr>\n",
              "    <tr>\n",
              "      <th>04/06/2004 10.00.00</th>\n",
              "      <td>5.7</td>\n",
              "      <td>5.7</td>\n",
              "      <td>0.000000e+00</td>\n",
              "    </tr>\n",
              "  </tbody>\n",
              "</table>\n",
              "<p>2808 rows × 3 columns</p>\n",
              "</div>"
            ],
            "text/plain": [
              "                     actual value  predicted value    difference\n",
              "DateTime                                                        \n",
              "26/04/2004 11.00.00           5.2              5.2  3.552714e-15\n",
              "08/02/2005 06.00.00           1.6              1.6 -4.440892e-16\n",
              "16/08/2004 05.00.00           2.4              2.4 -1.332268e-15\n",
              "18/09/2004 05.00.00           2.3              2.3  0.000000e+00\n",
              "04/04/2004 05.00.00           3.0              3.0  0.000000e+00\n",
              "...                           ...              ...           ...\n",
              "31/08/2004 02.00.00           2.9              2.9 -2.220446e-15\n",
              "26/03/2005 11.00.00           9.3              9.3 -3.552714e-15\n",
              "05/04/2004 01.00.00           2.4              2.4 -1.332268e-15\n",
              "27/11/2004 06.00.00           7.6              7.6  8.881784e-16\n",
              "04/06/2004 10.00.00           5.7              5.7  0.000000e+00\n",
              "\n",
              "[2808 rows x 3 columns]"
            ]
          },
          "metadata": {
            "tags": []
          },
          "execution_count": 26
        }
      ]
    },
    {
      "cell_type": "code",
      "metadata": {
        "colab": {
          "base_uri": "https://localhost:8080/"
        },
        "id": "sd6VSTVyURgM",
        "outputId": "6a5c532c-5859-44f1-a7ef-e06da8babe77"
      },
      "source": [
        "rmse_dec_reg=np.sqrt(mean_squared_error(y_test,y_pred1))     \n",
        "print('Baseline RMSE of model:',rmse_dec_reg)"
      ],
      "execution_count": null,
      "outputs": [
        {
          "output_type": "stream",
          "text": [
            "Baseline RMSE of model: 0.044777067288800404\n"
          ],
          "name": "stdout"
        }
      ]
    },
    {
      "cell_type": "markdown",
      "metadata": {
        "id": "lt-adykKNkly"
      },
      "source": [
        "# ***Random Forest Regressor***"
      ]
    },
    {
      "cell_type": "code",
      "metadata": {
        "colab": {
          "base_uri": "https://localhost:8080/"
        },
        "id": "vEiSdQFJJ_sx",
        "outputId": "2a5793ad-b444-40d6-b0a2-2cd1e35caf35"
      },
      "source": [
        "dt1=RandomForestRegressor()\n",
        "dt1.fit(x_tra,y_tra)"
      ],
      "execution_count": null,
      "outputs": [
        {
          "output_type": "execute_result",
          "data": {
            "text/plain": [
              "RandomForestRegressor(bootstrap=True, ccp_alpha=0.0, criterion='mse',\n",
              "                      max_depth=None, max_features='auto', max_leaf_nodes=None,\n",
              "                      max_samples=None, min_impurity_decrease=0.0,\n",
              "                      min_impurity_split=None, min_samples_leaf=1,\n",
              "                      min_samples_split=2, min_weight_fraction_leaf=0.0,\n",
              "                      n_estimators=100, n_jobs=None, oob_score=False,\n",
              "                      random_state=None, verbose=0, warm_start=False)"
            ]
          },
          "metadata": {
            "tags": []
          },
          "execution_count": 28
        }
      ]
    },
    {
      "cell_type": "code",
      "metadata": {
        "colab": {
          "base_uri": "https://localhost:8080/"
        },
        "id": "43sTsSAlJr-g",
        "outputId": "25a7db07-3f7e-44b7-c43e-66b29c8ece2f"
      },
      "source": [
        "y_pred2=dt1.predict(x_test)\n",
        "print(y_pred2)"
      ],
      "execution_count": null,
      "outputs": [
        {
          "output_type": "stream",
          "text": [
            "[5.2   1.6   2.404 ... 2.407 7.6   5.735]\n"
          ],
          "name": "stdout"
        }
      ]
    },
    {
      "cell_type": "code",
      "metadata": {
        "colab": {
          "base_uri": "https://localhost:8080/"
        },
        "id": "bB1y8EWWJf5P",
        "outputId": "d733c06e-791a-48ca-e8ba-d246f5e3f574"
      },
      "source": [
        "dt1.predict([[2.6,1360.0,1046.0,166.0,1056.0,113.0,1692.0,1268.0]])"
      ],
      "execution_count": null,
      "outputs": [
        {
          "output_type": "execute_result",
          "data": {
            "text/plain": [
              "array([11.9])"
            ]
          },
          "metadata": {
            "tags": []
          },
          "execution_count": 30
        }
      ]
    },
    {
      "cell_type": "code",
      "metadata": {
        "colab": {
          "base_uri": "https://localhost:8080/"
        },
        "id": "XAgJiSatKO5c",
        "outputId": "b77b82e7-ffee-403b-ec0d-cf3889e336cf"
      },
      "source": [
        "r2_score(y_test,y_pred2)"
      ],
      "execution_count": null,
      "outputs": [
        {
          "output_type": "execute_result",
          "data": {
            "text/plain": [
              "0.9999507105043465"
            ]
          },
          "metadata": {
            "tags": []
          },
          "execution_count": 31
        }
      ]
    },
    {
      "cell_type": "code",
      "metadata": {
        "colab": {
          "base_uri": "https://localhost:8080/",
          "height": 592
        },
        "id": "Gt3mz1tJKTpY",
        "outputId": "5b41729c-4576-4a99-cb68-7d0eda9fd69e"
      },
      "source": [
        "plt.figure(figsize=(15,10))\n",
        "plt.plot(y_test,y_pred2,'o')\n",
        "plt.show()\n",
        "plt.show()"
      ],
      "execution_count": null,
      "outputs": [
        {
          "output_type": "display_data",
          "data": {
            "image/png": "[encoded data removed]",
            "text/plain": [
              "<Figure size 1080x720 with 1 Axes>"
            ]
          },
          "metadata": {
            "tags": [],
            "needs_background": "light"
          }
        }
      ]
    },
    {
      "cell_type": "code",
      "metadata": {
        "colab": {
          "base_uri": "https://localhost:8080/",
          "height": 450
        },
        "id": "hYfxFrR178Ir",
        "outputId": "d1ecc58e-b4ca-4af9-dd6b-a3158c1897a5"
      },
      "source": [
        "pred_y_df=pd.DataFrame({'actual value':y_test,'predicted value':y_pred2,'difference':y_test-y_pred2})\n",
        "pred_y_df"
      ],
      "execution_count": null,
      "outputs": [
        {
          "output_type": "execute_result",
          "data": {
            "text/html": [
              "<div>\n",
              "<style scoped>\n",
              "    .dataframe tbody tr th:only-of-type {\n",
              "        vertical-align: middle;\n",
              "    }\n",
              "\n",
              "    .dataframe tbody tr th {\n",
              "        vertical-align: top;\n",
              "    }\n",
              "\n",
              "    .dataframe thead th {\n",
              "        text-align: right;\n",
              "    }\n",
              "</style>\n",
              "<table border=\"1\" class=\"dataframe\">\n",
              "  <thead>\n",
              "    <tr style=\"text-align: right;\">\n",
              "      <th></th>\n",
              "      <th>actual value</th>\n",
              "      <th>predicted value</th>\n",
              "      <th>difference</th>\n",
              "    </tr>\n",
              "    <tr>\n",
              "      <th>DateTime</th>\n",
              "      <th></th>\n",
              "      <th></th>\n",
              "      <th></th>\n",
              "    </tr>\n",
              "  </thead>\n",
              "  <tbody>\n",
              "    <tr>\n",
              "      <th>26/04/2004 11.00.00</th>\n",
              "      <td>5.2</td>\n",
              "      <td>5.200</td>\n",
              "      <td>7.993606e-15</td>\n",
              "    </tr>\n",
              "    <tr>\n",
              "      <th>08/02/2005 06.00.00</th>\n",
              "      <td>1.6</td>\n",
              "      <td>1.600</td>\n",
              "      <td>2.886580e-15</td>\n",
              "    </tr>\n",
              "    <tr>\n",
              "      <th>16/08/2004 05.00.00</th>\n",
              "      <td>2.4</td>\n",
              "      <td>2.404</td>\n",
              "      <td>-4.000000e-03</td>\n",
              "    </tr>\n",
              "    <tr>\n",
              "      <th>18/09/2004 05.00.00</th>\n",
              "      <td>2.3</td>\n",
              "      <td>2.328</td>\n",
              "      <td>-2.800000e-02</td>\n",
              "    </tr>\n",
              "    <tr>\n",
              "      <th>04/04/2004 05.00.00</th>\n",
              "      <td>3.0</td>\n",
              "      <td>2.997</td>\n",
              "      <td>3.000000e-03</td>\n",
              "    </tr>\n",
              "    <tr>\n",
              "      <th>...</th>\n",
              "      <td>...</td>\n",
              "      <td>...</td>\n",
              "      <td>...</td>\n",
              "    </tr>\n",
              "    <tr>\n",
              "      <th>31/08/2004 02.00.00</th>\n",
              "      <td>2.9</td>\n",
              "      <td>2.901</td>\n",
              "      <td>-1.000000e-03</td>\n",
              "    </tr>\n",
              "    <tr>\n",
              "      <th>26/03/2005 11.00.00</th>\n",
              "      <td>9.3</td>\n",
              "      <td>9.301</td>\n",
              "      <td>-1.000000e-03</td>\n",
              "    </tr>\n",
              "    <tr>\n",
              "      <th>05/04/2004 01.00.00</th>\n",
              "      <td>2.4</td>\n",
              "      <td>2.407</td>\n",
              "      <td>-7.000000e-03</td>\n",
              "    </tr>\n",
              "    <tr>\n",
              "      <th>27/11/2004 06.00.00</th>\n",
              "      <td>7.6</td>\n",
              "      <td>7.600</td>\n",
              "      <td>-1.421085e-14</td>\n",
              "    </tr>\n",
              "    <tr>\n",
              "      <th>04/06/2004 10.00.00</th>\n",
              "      <td>5.7</td>\n",
              "      <td>5.735</td>\n",
              "      <td>-3.500000e-02</td>\n",
              "    </tr>\n",
              "  </tbody>\n",
              "</table>\n",
              "<p>2808 rows × 3 columns</p>\n",
              "</div>"
            ],
            "text/plain": [
              "                     actual value  predicted value    difference\n",
              "DateTime                                                        \n",
              "26/04/2004 11.00.00           5.2            5.200  7.993606e-15\n",
              "08/02/2005 06.00.00           1.6            1.600  2.886580e-15\n",
              "16/08/2004 05.00.00           2.4            2.404 -4.000000e-03\n",
              "18/09/2004 05.00.00           2.3            2.328 -2.800000e-02\n",
              "04/04/2004 05.00.00           3.0            2.997  3.000000e-03\n",
              "...                           ...              ...           ...\n",
              "31/08/2004 02.00.00           2.9            2.901 -1.000000e-03\n",
              "26/03/2005 11.00.00           9.3            9.301 -1.000000e-03\n",
              "05/04/2004 01.00.00           2.4            2.407 -7.000000e-03\n",
              "27/11/2004 06.00.00           7.6            7.600 -1.421085e-14\n",
              "04/06/2004 10.00.00           5.7            5.735 -3.500000e-02\n",
              "\n",
              "[2808 rows x 3 columns]"
            ]
          },
          "metadata": {
            "tags": []
          },
          "execution_count": 33
        }
      ]
    },
    {
      "cell_type": "code",
      "metadata": {
        "colab": {
          "base_uri": "https://localhost:8080/"
        },
        "id": "aI2beA8xUYYa",
        "outputId": "d241842b-53d1-429c-e3d9-5a5609e7d791"
      },
      "source": [
        "rmse_for_reg=np.sqrt(mean_squared_error(y_test,y_pred2))      \n",
        "print('Baseline RMSE of model:',rmse_for_reg)"
      ],
      "execution_count": null,
      "outputs": [
        {
          "output_type": "stream",
          "text": [
            "Baseline RMSE of model: 0.05005080396165312\n"
          ],
          "name": "stdout"
        }
      ]
    },
    {
      "cell_type": "markdown",
      "metadata": {
        "id": "TuWrPvuGNTSj"
      },
      "source": [
        "# ***SVR***"
      ]
    },
    {
      "cell_type": "code",
      "metadata": {
        "colab": {
          "base_uri": "https://localhost:8080/"
        },
        "id": "8oexKocQKXC7",
        "outputId": "dfe03ef4-8d95-43ef-8816-7f50e3a28787"
      },
      "source": [
        "dt2=SVR()\n",
        "dt2.fit(x_tra,y_tra)"
      ],
      "execution_count": null,
      "outputs": [
        {
          "output_type": "execute_result",
          "data": {
            "text/plain": [
              "SVR(C=1.0, cache_size=200, coef0=0.0, degree=3, epsilon=0.1, gamma='scale',\n",
              "    kernel='rbf', max_iter=-1, shrinking=True, tol=0.001, verbose=False)"
            ]
          },
          "metadata": {
            "tags": []
          },
          "execution_count": 35
        }
      ]
    },
    {
      "cell_type": "code",
      "metadata": {
        "colab": {
          "base_uri": "https://localhost:8080/"
        },
        "id": "UiYUNIF-KasA",
        "outputId": "a7678b31-5494-4488-84bf-9b8ead898b8d"
      },
      "source": [
        "y_pred3=dt2.predict(x_test)\n",
        "print(y_pred3)"
      ],
      "execution_count": null,
      "outputs": [
        {
          "output_type": "stream",
          "text": [
            "[5.09419266 1.56873998 2.49511814 ... 2.43546258 7.5558179  5.72044576]\n"
          ],
          "name": "stdout"
        }
      ]
    },
    {
      "cell_type": "code",
      "metadata": {
        "colab": {
          "base_uri": "https://localhost:8080/"
        },
        "id": "RnQOYS5vKaw4",
        "outputId": "9327e5f3-3d5b-429f-8c7b-4f5b3eed112b"
      },
      "source": [
        "dt2.predict([[2.6,1360.0,1046.0,166.0,1056.0,113.0,1692.0,1268.0]])"
      ],
      "execution_count": null,
      "outputs": [
        {
          "output_type": "execute_result",
          "data": {
            "text/plain": [
              "array([11.91014469])"
            ]
          },
          "metadata": {
            "tags": []
          },
          "execution_count": 37
        }
      ]
    },
    {
      "cell_type": "code",
      "metadata": {
        "colab": {
          "base_uri": "https://localhost:8080/"
        },
        "id": "xCCYTA2vKa1r",
        "outputId": "ea64c747-b470-42aa-b0e3-98c9523aa7b6"
      },
      "source": [
        "r2_score(y_test,y_pred3)"
      ],
      "execution_count": null,
      "outputs": [
        {
          "output_type": "execute_result",
          "data": {
            "text/plain": [
              "0.9969314323528946"
            ]
          },
          "metadata": {
            "tags": []
          },
          "execution_count": 38
        }
      ]
    },
    {
      "cell_type": "code",
      "metadata": {
        "colab": {
          "base_uri": "https://localhost:8080/",
          "height": 592
        },
        "id": "yjuWyDnrKmpF",
        "outputId": "8f25063d-db73-4cb7-d620-54464d525db1"
      },
      "source": [
        "plt.figure(figsize=(15,10))\n",
        "plt.plot(y_test,y_pred3,'o')\n",
        "plt.show()\n",
        "plt.show()"
      ],
      "execution_count": null,
      "outputs": [
        {
          "output_type": "display_data",
          "data": {
            "image/png": "[encoded data removed]",
            "text/plain": [
              "<Figure size 1080x720 with 1 Axes>"
            ]
          },
          "metadata": {
            "tags": [],
            "needs_background": "light"
          }
        }
      ]
    },
    {
      "cell_type": "code",
      "metadata": {
        "colab": {
          "base_uri": "https://localhost:8080/",
          "height": 450
        },
        "id": "8Y6yBXQZ8RoC",
        "outputId": "d09f62e3-040d-4331-fb88-8674956e5717"
      },
      "source": [
        "pred_y_df=pd.DataFrame({'actual value':y_test,'predicted value':y_pred3,'difference':y_test-y_pred3})\n",
        "pred_y_df"
      ],
      "execution_count": null,
      "outputs": [
        {
          "output_type": "execute_result",
          "data": {
            "text/html": [
              "<div>\n",
              "<style scoped>\n",
              "    .dataframe tbody tr th:only-of-type {\n",
              "        vertical-align: middle;\n",
              "    }\n",
              "\n",
              "    .dataframe tbody tr th {\n",
              "        vertical-align: top;\n",
              "    }\n",
              "\n",
              "    .dataframe thead th {\n",
              "        text-align: right;\n",
              "    }\n",
              "</style>\n",
              "<table border=\"1\" class=\"dataframe\">\n",
              "  <thead>\n",
              "    <tr style=\"text-align: right;\">\n",
              "      <th></th>\n",
              "      <th>actual value</th>\n",
              "      <th>predicted value</th>\n",
              "      <th>difference</th>\n",
              "    </tr>\n",
              "    <tr>\n",
              "      <th>DateTime</th>\n",
              "      <th></th>\n",
              "      <th></th>\n",
              "      <th></th>\n",
              "    </tr>\n",
              "  </thead>\n",
              "  <tbody>\n",
              "    <tr>\n",
              "      <th>26/04/2004 11.00.00</th>\n",
              "      <td>5.2</td>\n",
              "      <td>5.094193</td>\n",
              "      <td>0.105807</td>\n",
              "    </tr>\n",
              "    <tr>\n",
              "      <th>08/02/2005 06.00.00</th>\n",
              "      <td>1.6</td>\n",
              "      <td>1.568740</td>\n",
              "      <td>0.031260</td>\n",
              "    </tr>\n",
              "    <tr>\n",
              "      <th>16/08/2004 05.00.00</th>\n",
              "      <td>2.4</td>\n",
              "      <td>2.495118</td>\n",
              "      <td>-0.095118</td>\n",
              "    </tr>\n",
              "    <tr>\n",
              "      <th>18/09/2004 05.00.00</th>\n",
              "      <td>2.3</td>\n",
              "      <td>2.265820</td>\n",
              "      <td>0.034180</td>\n",
              "    </tr>\n",
              "    <tr>\n",
              "      <th>04/04/2004 05.00.00</th>\n",
              "      <td>3.0</td>\n",
              "      <td>2.929902</td>\n",
              "      <td>0.070098</td>\n",
              "    </tr>\n",
              "    <tr>\n",
              "      <th>...</th>\n",
              "      <td>...</td>\n",
              "      <td>...</td>\n",
              "      <td>...</td>\n",
              "    </tr>\n",
              "    <tr>\n",
              "      <th>31/08/2004 02.00.00</th>\n",
              "      <td>2.9</td>\n",
              "      <td>2.922330</td>\n",
              "      <td>-0.022330</td>\n",
              "    </tr>\n",
              "    <tr>\n",
              "      <th>26/03/2005 11.00.00</th>\n",
              "      <td>9.3</td>\n",
              "      <td>9.060549</td>\n",
              "      <td>0.239451</td>\n",
              "    </tr>\n",
              "    <tr>\n",
              "      <th>05/04/2004 01.00.00</th>\n",
              "      <td>2.4</td>\n",
              "      <td>2.435463</td>\n",
              "      <td>-0.035463</td>\n",
              "    </tr>\n",
              "    <tr>\n",
              "      <th>27/11/2004 06.00.00</th>\n",
              "      <td>7.6</td>\n",
              "      <td>7.555818</td>\n",
              "      <td>0.044182</td>\n",
              "    </tr>\n",
              "    <tr>\n",
              "      <th>04/06/2004 10.00.00</th>\n",
              "      <td>5.7</td>\n",
              "      <td>5.720446</td>\n",
              "      <td>-0.020446</td>\n",
              "    </tr>\n",
              "  </tbody>\n",
              "</table>\n",
              "<p>2808 rows × 3 columns</p>\n",
              "</div>"
            ],
            "text/plain": [
              "                     actual value  predicted value  difference\n",
              "DateTime                                                      \n",
              "26/04/2004 11.00.00           5.2         5.094193    0.105807\n",
              "08/02/2005 06.00.00           1.6         1.568740    0.031260\n",
              "16/08/2004 05.00.00           2.4         2.495118   -0.095118\n",
              "18/09/2004 05.00.00           2.3         2.265820    0.034180\n",
              "04/04/2004 05.00.00           3.0         2.929902    0.070098\n",
              "...                           ...              ...         ...\n",
              "31/08/2004 02.00.00           2.9         2.922330   -0.022330\n",
              "26/03/2005 11.00.00           9.3         9.060549    0.239451\n",
              "05/04/2004 01.00.00           2.4         2.435463   -0.035463\n",
              "27/11/2004 06.00.00           7.6         7.555818    0.044182\n",
              "04/06/2004 10.00.00           5.7         5.720446   -0.020446\n",
              "\n",
              "[2808 rows x 3 columns]"
            ]
          },
          "metadata": {
            "tags": []
          },
          "execution_count": 40
        }
      ]
    },
    {
      "cell_type": "code",
      "metadata": {
        "colab": {
          "base_uri": "https://localhost:8080/"
        },
        "id": "OD7332xSUjFD",
        "outputId": "f54b9a59-5481-4dfa-878a-117bfb18328b"
      },
      "source": [
        "rmse_svr=np.sqrt(mean_squared_error(y_test,y_pred3))      \n",
        "print('Baseline RMSE of model:',rmse_svr)"
      ],
      "execution_count": null,
      "outputs": [
        {
          "output_type": "stream",
          "text": [
            "Baseline RMSE of model: 0.39491326487960576\n"
          ],
          "name": "stdout"
        }
      ]
    },
    {
      "cell_type": "markdown",
      "metadata": {
        "id": "SHAKGscRO-k7"
      },
      "source": [
        "# ***BEST MODEL***"
      ]
    },
    {
      "cell_type": "code",
      "metadata": {
        "colab": {
          "base_uri": "https://localhost:8080/"
        },
        "id": "W_Z89e9iL4Sf",
        "outputId": "d68d39f0-348d-4c0e-ce71-ae32a7bfc583"
      },
      "source": [
        "if (rmse_dec_reg<rmse_for_reg and rmse_dec_reg<rmse_reg and rmse_dec_reg<rmse_svr):\n",
        "  print ('the best model is Decision Tree Regressor')\n",
        "elif (rmse_for_reg<rmse_dec_reg and rmse_for_reg<rmse_reg and rmse_for_reg<rmse_svr):\n",
        "  print('the best model is Random Forest Regressor')\n",
        "elif (rmse_reg<rmse_dec_reg and rmse_reg<rmse_for_reg and rmse_reg<rmse_svr):\n",
        "  print('the best model is Linear Regression')\n",
        "else :\n",
        "  print('the best model is SVR')\n",
        "\n"
      ],
      "execution_count": null,
      "outputs": [
        {
          "output_type": "stream",
          "text": [
            "the best model is Decision Tree Regressor\n"
          ],
          "name": "stdout"
        }
      ]
    }
  ]
}